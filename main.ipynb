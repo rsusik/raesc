{
 "cells": [
  {
   "cell_type": "markdown",
   "metadata": {},
   "source": [
    "# Recurrent AutoEncoder with Sequence-aware encoding\n",
    "\n",
    "## About\n",
    "\n",
    "This source code was written for research purpose (https://arxiv.org/abs/2009.07349) and has a minimal error checking. The code may be not very readable and comments may not be adequate. There is no warranty, your use of this code is at your own risk.\n",
    "\n",
    "Cite (paper preprint):\n",
    "\n",
    "```\n",
    "@misc{susik2020recurrent,\n",
    "    title={Recurrent autoencoder with sequence-aware encoding},\n",
    "    author={Robert Susik},\n",
    "    year={2020},\n",
    "    eprint={2009.07349},\n",
    "    archivePrefix={arXiv},\n",
    "    primaryClass={cs.LG}\n",
    "}\n",
    "```\n",
    "\n",
    "## Requirements\n",
    "\n",
    "- Python 3\n",
    "- Tensorflow==2.3.0\n",
    "- Matplotlib\n",
    "- Numpy\n",
    "\n",
    "See more details in `requirements.txt` file.\n",
    "\n",
    "_NOTE: The code was tested on Fedora 28 64-bit, and never tested on other OS._\n"
   ]
  },
  {
   "cell_type": "markdown",
   "metadata": {},
   "source": [
    "## Load all results"
   ]
  },
  {
   "cell_type": "code",
   "execution_count": null,
   "metadata": {},
   "outputs": [],
   "source": [
    "import pickle\n",
    "import numpy as np\n",
    "import pandas as pd\n",
    "\n",
    "import main\n",
    "from importlib import reload\n",
    "reload(main)\n",
    "from main import *\n",
    "from IPython import display\n",
    "import glob\n",
    "\n",
    "tmp = []\n",
    "\n",
    "for filename in glob.glob('results_*.pickle'):\n",
    "    with open(filename, 'rb') as f:\n",
    "        tmp.append([x['training'] for x in np.array(pickle.load(f))])\n",
    "\n",
    "results = np.concatenate(tmp)\n",
    "results_df = pd.DataFrame(results) # load results also to dataframe\n"
   ]
  },
  {
   "cell_type": "markdown",
   "metadata": {},
   "source": [
    "## Plot figures"
   ]
  },
  {
   "cell_type": "markdown",
   "metadata": {},
   "source": [
    "### Figure 2"
   ]
  },
  {
   "cell_type": "code",
   "execution_count": null,
   "metadata": {
    "scrolled": true
   },
   "outputs": [],
   "source": [
    "plot_results(\n",
    "[x for x in np.array(results) if \n",
    "    x[TRAINING_DETAILS.FEATURES] == 1 and\n",
    "    x[TRAINING_DETAILS.HIDDEN_DIM] == 50\n",
    "]\n",
    "    , metric='loss'\n",
    "    , filename='fig2a.pgf'\n",
    ")\n",
    "display.Image(filename=f'./fig2a.pgf.png')"
   ]
  },
  {
   "cell_type": "code",
   "execution_count": null,
   "metadata": {
    "scrolled": true
   },
   "outputs": [],
   "source": [
    "plot_results(\n",
    "[x for x in np.array(results) if \n",
    "    x[TRAINING_DETAILS.FEATURES] == 1 and\n",
    "    x[TRAINING_DETAILS.HIDDEN_DIM] == 200\n",
    "]\n",
    "    , metric='loss'\n",
    "    , filename='fig2b.pgf'\n",
    ")\n",
    "\n",
    "display.Image(filename=f'./fig2b.pgf.png')"
   ]
  },
  {
   "cell_type": "markdown",
   "metadata": {},
   "source": [
    "### Figure 3"
   ]
  },
  {
   "cell_type": "code",
   "execution_count": null,
   "metadata": {},
   "outputs": [],
   "source": [
    "plot_results(\n",
    "[x for x in np.array(results) if \n",
    "    x[TRAINING_DETAILS.FEATURES] == 2 and\n",
    "    x[TRAINING_DETAILS.HIDDEN_DIM] == 100\n",
    "]\n",
    "    , metric='loss'\n",
    "    , filename='fig3a.pgf'\n",
    ")\n",
    "\n",
    "display.Image(filename=f'./fig3a.pgf.png')"
   ]
  },
  {
   "cell_type": "code",
   "execution_count": null,
   "metadata": {},
   "outputs": [],
   "source": [
    "plot_results(\n",
    "[x for x in np.array(results) if \n",
    "    x[TRAINING_DETAILS.FEATURES] == 2 and\n",
    "    x[TRAINING_DETAILS.HIDDEN_DIM] == 400\n",
    "]\n",
    "    , metric='loss'\n",
    "    , filename='fig3b.pgf'\n",
    ")\n",
    "\n",
    "display.Image(filename=f'./fig3b.pgf.png')"
   ]
  },
  {
   "cell_type": "markdown",
   "metadata": {},
   "source": [
    "### Figure 4"
   ]
  },
  {
   "cell_type": "code",
   "execution_count": null,
   "metadata": {},
   "outputs": [],
   "source": [
    "plot_results(\n",
    "[x for x in np.array(results) if \n",
    "    x[TRAINING_DETAILS.FEATURES] == 4 and\n",
    "    x[TRAINING_DETAILS.HIDDEN_DIM] == 200\n",
    "]\n",
    "    , metric='loss'\n",
    "    , filename='fig4a.pgf'\n",
    ")\n",
    "\n",
    "display.Image(filename=f'./fig4a.pgf.png')"
   ]
  },
  {
   "cell_type": "code",
   "execution_count": null,
   "metadata": {},
   "outputs": [],
   "source": [
    "plot_results(\n",
    "[x for x in np.array(results) if \n",
    "    x[TRAINING_DETAILS.FEATURES] == 4 and\n",
    "    x[TRAINING_DETAILS.HIDDEN_DIM] == 800\n",
    "]\n",
    "    , metric='loss'\n",
    "    , filename='fig4b.pgf'\n",
    ")\n",
    "\n",
    "display.Image(filename=f'./fig4b.pgf.png')"
   ]
  },
  {
   "cell_type": "markdown",
   "metadata": {},
   "source": [
    "### Figure 5"
   ]
  },
  {
   "cell_type": "code",
   "execution_count": null,
   "metadata": {},
   "outputs": [],
   "source": [
    "plot_results(\n",
    "[x for x in np.array(results) if \n",
    "    x[TRAINING_DETAILS.FEATURES] == 8 and\n",
    "    x[TRAINING_DETAILS.HIDDEN_DIM] == 400\n",
    "]\n",
    "    , metric='loss'\n",
    "    , filename='fig5a.pgf'\n",
    ")\n",
    "\n",
    "display.Image(filename=f'./fig5a.pgf.png')"
   ]
  },
  {
   "cell_type": "code",
   "execution_count": null,
   "metadata": {},
   "outputs": [],
   "source": [
    "plot_results(\n",
    "[x for x in np.array(results) if \n",
    "    x[TRAINING_DETAILS.FEATURES] == 8 and\n",
    "    x[TRAINING_DETAILS.HIDDEN_DIM] == 1600\n",
    "]\n",
    "    , metric='loss'\n",
    "    , filename='fig5b.pgf'\n",
    ")\n",
    "\n",
    "display.Image(filename=f'./fig5b.pgf.png')"
   ]
  },
  {
   "cell_type": "markdown",
   "metadata": {},
   "source": [
    "### Figure 6 (7 in paper)"
   ]
  },
  {
   "cell_type": "code",
   "execution_count": null,
   "metadata": {},
   "outputs": [],
   "source": [
    "nfeatures = [1]\n",
    "hd = [200, 50]\n",
    "\n",
    "plot_results3(\n",
    "[x for x in np.array(results) if \n",
    "    x[TRAINING_DETAILS.NAME] in ['RAES'] and \n",
    "    x[TRAINING_DETAILS.FEATURES] in nfeatures and\n",
    "    x[TRAINING_DETAILS.HIDDEN_DIM] in hd\n",
    "] + [x for x in np.array(results) if \n",
    "    x[TRAINING_DETAILS.NAME] in ['RAE'] and \n",
    "    x[TRAINING_DETAILS.FEATURES] in nfeatures and\n",
    "    x[TRAINING_DETAILS.HIDDEN_DIM] in hd\n",
    "] + [x for x in np.array(results) if \n",
    "    x[TRAINING_DETAILS.NAME] in ['RAESC'] and \n",
    "    x[TRAINING_DETAILS.FEATURES] in nfeatures and\n",
    "    x[TRAINING_DETAILS.HIDDEN_DIM] in hd\n",
    "]\n",
    "    , lambda res: [sum(res[TRAINING_DETAILS.TIMINGS][:idx+1]) for idx, _ in enumerate(res[TRAINING_DETAILS.TIMINGS])]\n",
    "    , metric='loss'\n",
    "    , filename=f'fig6a.pgf'\n",
    "    , label_fmt='{NAME} {HD}'\n",
    "    , line_styles_mapping = {'RAE': ['--'], 'RAESC': ['-'], 'RAES': ['-']}\n",
    "    , color_mapping = {\n",
    "          'RAE': ['red', 'firebrick', 'orange', 'salmon', 'gold', 'olive', 'y'],\n",
    "          'RAESC': ['green', 'olive', 'lightgreen', 'black'],\n",
    "          'RAES': ['blue']\n",
    "      }\n",
    "    , xlim=(-1, 101)\n",
    "    , ylim=(-0.01, 1.1)\n",
    "    , ylabel='loss'\n",
    "    , xlabel='time [s]'\n",
    "    , xticks=np.arange(25)*50\n",
    ")\n",
    "\n",
    "display.Image(filename=f'./fig6a.pgf.png')"
   ]
  },
  {
   "cell_type": "code",
   "execution_count": null,
   "metadata": {},
   "outputs": [],
   "source": [
    "nfeatures = [2]\n",
    "hd = [400, 100]\n",
    "\n",
    "plot_results3(\n",
    "[x for x in np.array(results) if \n",
    "    x[TRAINING_DETAILS.NAME] in ['RAES'] and \n",
    "    x[TRAINING_DETAILS.FEATURES] in nfeatures and\n",
    "    x[TRAINING_DETAILS.HIDDEN_DIM] in hd\n",
    "] + [x for x in np.array(results) if \n",
    "    x[TRAINING_DETAILS.NAME] in ['RAE'] and \n",
    "    x[TRAINING_DETAILS.FEATURES] in nfeatures and\n",
    "    x[TRAINING_DETAILS.HIDDEN_DIM] in hd\n",
    "] + [x for x in np.array(results) if \n",
    "    x[TRAINING_DETAILS.NAME] in ['RAESC'] and \n",
    "    x[TRAINING_DETAILS.FEATURES] in nfeatures and\n",
    "    x[TRAINING_DETAILS.HIDDEN_DIM] in hd\n",
    "]\n",
    "    , lambda res: [sum(res[TRAINING_DETAILS.TIMINGS][:idx+1]) for idx, _ in enumerate(res[TRAINING_DETAILS.TIMINGS])]\n",
    "    , metric='loss'\n",
    "    , filename=f'fig6__.pgf'\n",
    "    , label_fmt='{NAME} {HD}'\n",
    "    , line_styles_mapping = {'RAE': ['--'], 'RAESC': ['-'], 'RAES': ['-']}\n",
    "    , color_mapping = {\n",
    "          'RAE': ['red', 'firebrick', 'orange', 'salmon', 'gold', 'olive', 'y'],\n",
    "          'RAESC': ['green', 'olive', 'lightgreen', 'black'],\n",
    "          'RAES': ['blue']\n",
    "      }\n",
    "    , xlim=(-1, 101)\n",
    "    , ylim=(-0.01, 1.1)\n",
    "    #, figsize=(13, 8)\n",
    "    , ylabel='loss'\n",
    "    , xlabel='time [s]'\n",
    "    , xticks=np.arange(25)*50\n",
    ")\n",
    "\n",
    "display.Image(filename=f'./fig6b.pgf.png')"
   ]
  },
  {
   "cell_type": "markdown",
   "metadata": {},
   "source": [
    "### Figure 7 (6 in paper)"
   ]
  },
  {
   "cell_type": "code",
   "execution_count": null,
   "metadata": {},
   "outputs": [],
   "source": [
    "nfeatures = [2]\n",
    "hd = [400]\n",
    "\n",
    "plot_results3(\n",
    "    [x for x in np.array(results) if \n",
    "        x[TRAINING_DETAILS.NAME] in ['RAESC'] and \n",
    "        x[TRAINING_DETAILS.FEATURES] in nfeatures and\n",
    "        x[TRAINING_DETAILS.HIDDEN_DIM] in hd\n",
    "    ] \n",
    "        + [x for x in np.array(results) if \n",
    "        x[TRAINING_DETAILS.NAME] in ['RAE'] and \n",
    "        x[TRAINING_DETAILS.FEATURES] in nfeatures and\n",
    "        x[TRAINING_DETAILS.HIDDEN_DIM] in hd\n",
    "    ]\n",
    "    , lambda res: [sum(res[TRAINING_DETAILS.TIMINGS][:idx+1]) for idx, _ in enumerate(res[TRAINING_DETAILS.TIMINGS])]\n",
    "    , metric=['loss', 'val_loss']\n",
    "    , filename=f'fig7b.pgf'\n",
    "    , label_fmt='{NAME} ({METRIC})'\n",
    "    , line_styles_mapping = {'RAE': ['--'], 'RAESC': ['-'], 'RAES': ['-']}\n",
    "    , color_mapping = {\n",
    "          'RAE': ['red', 'firebrick', 'orange', 'salmon', 'gold', 'olive', 'y'],\n",
    "          'RAESC': ['green', 'olive', 'lightgreen', 'black'],\n",
    "          'RAES': ['blue', 'cyan']\n",
    "      }\n",
    "    , xlim=(-1, 101)\n",
    "    , ylim=(-0.01, 1.2)\n",
    "    #, figsize=(13, 8)\n",
    "    , ylabel='loss'\n",
    "    , xlabel='time [s]'\n",
    "    , xticks=np.arange(25)*50\n",
    ")\n",
    "\n",
    "#display.Image(filename=f'./fig7.pgf.png')"
   ]
  },
  {
   "cell_type": "code",
   "execution_count": null,
   "metadata": {},
   "outputs": [],
   "source": [
    "nfeatures = [1]\n",
    "hd = [50]\n",
    "\n",
    "plot_results3(\n",
    "    [x for x in np.array(results) if \n",
    "        x[TRAINING_DETAILS.NAME] in ['RAESC'] and \n",
    "        x[TRAINING_DETAILS.FEATURES] in nfeatures and\n",
    "        x[TRAINING_DETAILS.HIDDEN_DIM] in hd\n",
    "    ] \n",
    "        + [x for x in np.array(results) if \n",
    "        x[TRAINING_DETAILS.NAME] in ['RAE'] and \n",
    "        x[TRAINING_DETAILS.FEATURES] in nfeatures and\n",
    "        x[TRAINING_DETAILS.HIDDEN_DIM] in hd\n",
    "    ]\n",
    "    , lambda res: [sum(res[TRAINING_DETAILS.TIMINGS][:idx+1]) for idx, _ in enumerate(res[TRAINING_DETAILS.TIMINGS])]\n",
    "    , metric=['loss', 'val_loss']\n",
    "    , filename=f'fig7a.pgf'\n",
    "    , label_fmt='{NAME} ({METRIC})'\n",
    "    , line_styles_mapping = {'RAE': ['--'], 'RAESC': ['-'], 'RAES': ['-']}\n",
    "    , color_mapping = {\n",
    "          'RAE': ['red', 'firebrick', 'orange', 'salmon', 'gold', 'olive', 'y'],\n",
    "          'RAESC': ['green', 'olive', 'lightgreen', 'black'],\n",
    "          'RAES': ['blue', 'cyan']\n",
    "      }\n",
    "    , xlim=(-1, 61)\n",
    "    , ylim=(-0.01, 1.2)\n",
    "    #, figsize=(13, 8)\n",
    "    , ylabel='loss'\n",
    "    , xlabel='time [s]'\n",
    "    , xticks=np.arange(25)*50\n",
    ")"
   ]
  },
  {
   "cell_type": "markdown",
   "metadata": {},
   "source": [
    "# Table 1 (epoch time - median)"
   ]
  },
  {
   "cell_type": "code",
   "execution_count": null,
   "metadata": {},
   "outputs": [],
   "source": [
    "results_df['time_median'] = results_df[TRAINING_DETAILS.TIMINGS].apply(lambda x: np.median(x[1:]))\n",
    "results_df['sigma'] = (results_df[TRAINING_DETAILS.HIDDEN_DIM]/(results_df[TRAINING_DETAILS.FEATURES]*results_df[TRAINING_DETAILS.SEQ_LEN]))"
   ]
  },
  {
   "cell_type": "code",
   "execution_count": null,
   "metadata": {},
   "outputs": [],
   "source": [
    "results_df_sorted = results_df[\n",
    "    (results_df[TRAINING_DETAILS.FEATURES].isin([1, 2, 4, 8])) &\n",
    "    (results_df['sigma'].isin([0.25, 0.5, 1.0]))\n",
    "].sort_values([TRAINING_DETAILS.FEATURES, TRAINING_DETAILS.NAME], ascending=[True, True])"
   ]
  },
  {
   "cell_type": "code",
   "execution_count": null,
   "metadata": {},
   "outputs": [],
   "source": [
    "for feature in [1, 2, 4, 8]:\n",
    "    for algorithm in ['RAE', 'RAES', 'RAESC']:\n",
    "        medians = []\n",
    "        for sigma in [0.25, 0.5, 1.0]:\n",
    "            tmp = results_df_sorted[\n",
    "                (results_df[TRAINING_DETAILS.FEATURES] == feature) &\n",
    "                (results_df[TRAINING_DETAILS.NAME] == algorithm) &\n",
    "                (results_df['sigma'] == sigma)\n",
    "            ]\n",
    "            \n",
    "            if len(tmp['time_median'].values) > 0:\n",
    "                medians.append(f\"{tmp['time_median'].values[0]:<9.2f}\")\n",
    "                #print(tmp['time_median'].values[0])\n",
    "            else:\n",
    "                medians.append(f\"{'-':9}\")\n",
    "        print(f'{feature:<10} & {algorithm:<14} & {\" & \".join(medians)} \\\\\\\\')\n",
    "    print('\\\\hline')"
   ]
  },
  {
   "cell_type": "code",
   "execution_count": null,
   "metadata": {},
   "outputs": [],
   "source": []
  }
 ],
 "metadata": {
  "author": {
   "emails": [
    "robert.susik@p.lodz.pl",
    "rsusik@kis.p.lodz.pl"
   ],
   "name": "Robert Susik"
  },
  "kernelspec": {
   "display_name": "Python 3",
   "language": "python",
   "name": "python3"
  },
  "language_info": {
   "codemirror_mode": {
    "name": "ipython",
    "version": 3
   },
   "file_extension": ".py",
   "mimetype": "text/x-python",
   "name": "python",
   "nbconvert_exporter": "python",
   "pygments_lexer": "ipython3",
   "version": "3.7.4"
  },
  "toc": {
   "base_numbering": 1,
   "nav_menu": {},
   "number_sections": true,
   "sideBar": true,
   "skip_h1_title": false,
   "title_cell": "Table of Contents",
   "title_sidebar": "Contents",
   "toc_cell": false,
   "toc_position": {
    "height": "calc(100% - 180px)",
    "left": "10px",
    "top": "150px",
    "width": "225.667px"
   },
   "toc_section_display": true,
   "toc_window_display": true
  }
 },
 "nbformat": 4,
 "nbformat_minor": 4
}
