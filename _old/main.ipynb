{
 "cells": [
  {
   "cell_type": "markdown",
   "metadata": {},
   "source": [
    "# Recurrent AutoEncoder with Sequence-aware encoding\n",
    "\n",
    "## About\n",
    "\n",
    "This source code was written for research purpose (https://arxiv.org/abs/2009.07349) and has a minimal error checking. The code may be not very readable and comments may not be adequate. There is no warranty, your use of this code is at your own risk.\n",
    "\n",
    "Cite (paper preprint):\n",
    "\n",
    "```\n",
    "@misc{susik2020recurrent,\n",
    "    title={Recurrent autoencoder with sequence-aware encoding},\n",
    "    author={Robert Susik},\n",
    "    year={2020},\n",
    "    eprint={2009.07349},\n",
    "    archivePrefix={arXiv},\n",
    "    primaryClass={cs.LG}\n",
    "}\n",
    "```\n",
    "\n",
    "## Requirements\n",
    "\n",
    "- Python 3\n",
    "- Tensorflow==2.3.0\n",
    "- Matplotlib\n",
    "- Numpy\n",
    "\n",
    "See more details in `requirements.txt` file.\n",
    "\n",
    "_NOTE: The code was tested on Fedora 28 64-bit, and never tested on other OS._\n",
    "\n",
    "\n",
    "\n",
    "## Training and evaluation"
   ]
  },
  {
   "cell_type": "code",
   "execution_count": null,
   "metadata": {},
   "outputs": [],
   "source": [
    "from main import *\n",
    "from IPython import display"
   ]
  },
  {
   "cell_type": "markdown",
   "metadata": {},
   "source": [
    "### Experiments"
   ]
  },
  {
   "cell_type": "code",
   "execution_count": null,
   "metadata": {},
   "outputs": [],
   "source": [
    "training = train(\n",
    "    models=[Models.RAESC, Models.RAES, Models.RAE], \n",
    "    n_epochs=100,\n",
    "    n_hidden_dim_delimiter=[4, 2, 1],\n",
    "    n_batch_size=100,\n",
    "    n_learning_rate=0.001,\n",
    "    n_features=[1, 2, 4, 8],\n",
    "    n_samples=5000\n",
    ")\n",
    "\n",
    "evaluation = evaluate(training)\n",
    "\n",
    "results = save_results(training, evaluation, filename=f'./results.pickle')"
   ]
  },
  {
   "cell_type": "markdown",
   "metadata": {},
   "source": [
    "### Tuning the standard RAE (different context size)"
   ]
  },
  {
   "cell_type": "code",
   "execution_count": null,
   "metadata": {},
   "outputs": [],
   "source": [
    "training = train(\n",
    "    models=[Models.RAE], \n",
    "    n_epochs=100,\n",
    "    n_hidden_dim_delimiter=[32, 16, 8, 4, 2, 1],\n",
    "    n_batch_size=100,\n",
    "    n_learning_rate=0.001,\n",
    "    n_features=8,\n",
    "    n_samples=5000\n",
    ")\n",
    "\n",
    "evaluation = evaluate(training)\n",
    "\n",
    "results_rae = save_results(training, evaluation, filename=f'./results_rae_tuning.pickle')"
   ]
  },
  {
   "cell_type": "markdown",
   "metadata": {},
   "source": [
    "## Load all results"
   ]
  },
  {
   "cell_type": "code",
   "execution_count": null,
   "metadata": {},
   "outputs": [],
   "source": [
    "with open(f'./results.pickle', 'rb') as f:\n",
    "    results = pickle.load(f)\n",
    "    \n",
    "with open(f'./results_rae_tuning.pickle', 'rb') as f:\n",
    "    results_rae = pickle.load(f)"
   ]
  },
  {
   "cell_type": "markdown",
   "metadata": {},
   "source": [
    "## Plot figures"
   ]
  },
  {
   "cell_type": "code",
   "execution_count": null,
   "metadata": {
    "scrolled": true
   },
   "outputs": [],
   "source": [
    "plot_results(\n",
    "[x for x in np.array(results) if \n",
    "    #x['name'] == 'conv1D' and \n",
    "    x['training'][TRAINING_DETAILS.FEATURES] == 1 and\n",
    "    x['training'][TRAINING_DETAILS.HIDDEN_DIM] == 50\n",
    "]\n",
    "    , 'loss'\n",
    "    , 'fig4a.pgf'\n",
    ")\n",
    "display.Image(filename=f'./fig4a.pgf.png')"
   ]
  },
  {
   "cell_type": "code",
   "execution_count": null,
   "metadata": {
    "scrolled": true
   },
   "outputs": [],
   "source": [
    "plot_results(\n",
    "[x for x in np.array(results) if \n",
    "    #x['name'] == 'conv1D' and \n",
    "    x['training'][TRAINING_DETAILS.FEATURES] == 1 and\n",
    "    x['training'][TRAINING_DETAILS.HIDDEN_DIM] == 200\n",
    "]\n",
    "    , 'loss'\n",
    "    , 'fig4b.pgf'\n",
    ")\n",
    "\n",
    "display.Image(filename=f'./fig4b.pgf.png')"
   ]
  },
  {
   "cell_type": "code",
   "execution_count": null,
   "metadata": {},
   "outputs": [],
   "source": [
    "plot_results(\n",
    "[x for x in np.array(results) if \n",
    "    x['training'][TRAINING_DETAILS.FEATURES] == 2 and\n",
    "    x['training'][TRAINING_DETAILS.HIDDEN_DIM] == 100\n",
    "]\n",
    "    , 'loss'\n",
    "    , 'fig5a.pgf'\n",
    ")\n",
    "\n",
    "display.Image(filename=f'./fig5a.pgf.png')"
   ]
  },
  {
   "cell_type": "code",
   "execution_count": null,
   "metadata": {},
   "outputs": [],
   "source": [
    "plot_results(\n",
    "[x for x in np.array(results) if \n",
    "    x['training'][TRAINING_DETAILS.FEATURES] == 2 and\n",
    "    x['training'][TRAINING_DETAILS.HIDDEN_DIM] == 400\n",
    "]\n",
    "    , 'loss'\n",
    "    , 'fig5b.pgf'\n",
    ")\n",
    "\n",
    "display.Image(filename=f'./fig5b.pgf.png')"
   ]
  },
  {
   "cell_type": "code",
   "execution_count": null,
   "metadata": {},
   "outputs": [],
   "source": [
    "plot_results(\n",
    "[x for x in np.array(results) if \n",
    "    x['training'][TRAINING_DETAILS.FEATURES] == 8 and\n",
    "    x['training'][TRAINING_DETAILS.HIDDEN_DIM] == 400\n",
    "]\n",
    "    , 'loss'\n",
    "    , 'fig6a.pgf'\n",
    ")\n",
    "\n",
    "display.Image(filename=f'./fig6a.pgf.png')"
   ]
  },
  {
   "cell_type": "code",
   "execution_count": null,
   "metadata": {},
   "outputs": [],
   "source": [
    "plot_results(\n",
    "[x for x in np.array(results) if \n",
    "    x['training'][TRAINING_DETAILS.FEATURES] == 8 and\n",
    "    x['training'][TRAINING_DETAILS.HIDDEN_DIM] == 1600\n",
    "]\n",
    "    , 'loss'\n",
    "    , 'fig6b.pgf'\n",
    ")\n",
    "\n",
    "display.Image(filename=f'./fig6b.pgf.png')"
   ]
  },
  {
   "cell_type": "code",
   "execution_count": null,
   "metadata": {},
   "outputs": [],
   "source": [
    "plot_results(\n",
    "[x for x in np.array(results) if \n",
    "    x['training'][TRAINING_DETAILS.NAME] in ['RAES'] and \n",
    "    x['training'][TRAINING_DETAILS.FEATURES] == 8 and\n",
    "    x['training'][TRAINING_DETAILS.HIDDEN_DIM] == 1600\n",
    "] + [x for x in np.array(results_rae) if \n",
    "    x['training'][TRAINING_DETAILS.NAME] in ['RAE'] and \n",
    "    x['training'][TRAINING_DETAILS.FEATURES] == 8 and\n",
    "    x['training'][TRAINING_DETAILS.HIDDEN_DIM] in [1600, 800, 400, 200, 100, 50]\n",
    "]\n",
    "    , 'loss'\n",
    "    , 'fig7.pgf'\n",
    "    , label_fmt='{NAME} {HD}'\n",
    "    , line_styles_mapping = {'RAE': ['--'], 'RAESC': ['-'], 'RAES': ['-']}\n",
    ")\n",
    "\n",
    "display.Image(filename=f'./fig7.pgf.png')"
   ]
  },
  {
   "cell_type": "code",
   "execution_count": null,
   "metadata": {},
   "outputs": [],
   "source": []
  }
 ],
 "metadata": {
  "kernelspec": {
   "display_name": "Python 3",
   "language": "python",
   "name": "python3"
  },
  "language_info": {
   "codemirror_mode": {
    "name": "ipython",
    "version": 3
   },
   "file_extension": ".py",
   "mimetype": "text/x-python",
   "name": "python",
   "nbconvert_exporter": "python",
   "pygments_lexer": "ipython3",
   "version": "3.7.4"
  },
  "toc": {
   "base_numbering": 1,
   "nav_menu": {},
   "number_sections": true,
   "sideBar": true,
   "skip_h1_title": false,
   "title_cell": "Table of Contents",
   "title_sidebar": "Contents",
   "toc_cell": false,
   "toc_position": {
    "height": "calc(100% - 180px)",
    "left": "10px",
    "top": "150px",
    "width": "165px"
   },
   "toc_section_display": true,
   "toc_window_display": true
  }
 },
 "nbformat": 4,
 "nbformat_minor": 4
}